{
 "cells": [
  {
   "cell_type": "code",
   "execution_count": null,
   "id": "eaf79a43",
   "metadata": {},
   "outputs": [],
   "source": [
    "from tensorflow import keras\n",
    "import numpy as np\n",
    "from PIL import Image"
   ]
  },
  {
   "cell_type": "code",
   "execution_count": null,
   "id": "07f95dbe",
   "metadata": {},
   "outputs": [],
   "source": [
    "model = keras.models.load_model('model.h5')"
   ]
  },
  {
   "cell_type": "code",
   "execution_count": null,
   "id": "73cc9de9",
   "metadata": {},
   "outputs": [],
   "source": [
    "dictionary={0:\"airplane\",1:\"automobile\",2:\"bird\",3:\"cat\",4:\"deer\",5:\"dog\",6:\"frog\",7:\"horse\",8:\"ship\",9:\"truck\"}"
   ]
  },
  {
   "cell_type": "code",
   "execution_count": null,
   "id": "0cc111fd",
   "metadata": {},
   "outputs": [],
   "source": [
    "def predict_image(image):\n",
    "    image = image.reshape((1,32,32,3))\n",
    "    yy = np.argmax(model.predict(image))\n",
    "    return dictionary[yy]\n",
    "    "
   ]
  },
  {
   "cell_type": "code",
   "execution_count": null,
   "id": "79054029",
   "metadata": {},
   "outputs": [],
   "source": [
    "def load_image( infilename ) :\n",
    "    img = Image.open( infilename )\n",
    "    img = img.resize((32,32))\n",
    "    data = np.asarray( img, dtype=\"float32\" )/256\n",
    "    data.reshape((1,32,32,3))\n",
    "    return data"
   ]
  },
  {
   "cell_type": "code",
   "execution_count": null,
   "id": "bbce76bd",
   "metadata": {},
   "outputs": [],
   "source": [
    "img  = load_image('images/bird.jpg')"
   ]
  },
  {
   "cell_type": "code",
   "execution_count": null,
   "id": "ca1b10db",
   "metadata": {},
   "outputs": [],
   "source": [
    "predict_image(img)"
   ]
  },
  {
   "cell_type": "code",
   "execution_count": null,
   "id": "df11128e",
   "metadata": {},
   "outputs": [],
   "source": []
  }
 ],
 "metadata": {
  "kernelspec": {
   "display_name": "Python 3 (ipykernel)",
   "language": "python",
   "name": "python3"
  },
  "language_info": {
   "codemirror_mode": {
    "name": "ipython",
    "version": 3
   },
   "file_extension": ".py",
   "mimetype": "text/x-python",
   "name": "python",
   "nbconvert_exporter": "python",
   "pygments_lexer": "ipython3",
   "version": "3.8.13"
  }
 },
 "nbformat": 4,
 "nbformat_minor": 5
}
